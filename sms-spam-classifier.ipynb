{
 "cells": [
  {
   "cell_type": "code",
   "execution_count": 1,
   "id": "1c2371ea",
   "metadata": {
    "_cell_guid": "b1076dfc-b9ad-4769-8c92-a6c4dae69d19",
    "_uuid": "8f2839f25d086af736a60e9eeb907d3b93b6e0e5",
    "execution": {
     "iopub.execute_input": "2023-06-14T09:02:50.035944Z",
     "iopub.status.busy": "2023-06-14T09:02:50.035499Z",
     "iopub.status.idle": "2023-06-14T09:02:50.057021Z",
     "shell.execute_reply": "2023-06-14T09:02:50.055740Z"
    },
    "papermill": {
     "duration": 0.040337,
     "end_time": "2023-06-14T09:02:50.060489",
     "exception": false,
     "start_time": "2023-06-14T09:02:50.020152",
     "status": "completed"
    },
    "tags": []
   },
   "outputs": [
    {
     "name": "stdout",
     "output_type": "stream",
     "text": [
      "/kaggle/input/sms-spam-collection-dataset/spam.csv\n"
     ]
    }
   ],
   "source": [
    "# This Python 3 environment comes with many helpful analytics libraries installed\n",
    "# It is defined by the kaggle/python Docker image: https://github.com/kaggle/docker-python\n",
    "# For example, here's several helpful packages to load\n",
    "\n",
    "import numpy as np # linear algebra\n",
    "import pandas as pd # data processing, CSV file I/O (e.g. pd.read_csv)\n",
    "\n",
    "# Input data files are available in the read-only \"../input/\" directory\n",
    "# For example, running this (by clicking run or pressing Shift+Enter) will list all files under the input directory\n",
    "\n",
    "import os\n",
    "for dirname, _, filenames in os.walk('/kaggle/input'):\n",
    "    for filename in filenames:\n",
    "        print(os.path.join(dirname, filename))\n",
    "\n",
    "# You can write up to 20GB to the current directory (/kaggle/working/) that gets preserved as output when you create a version using \"Save & Run All\" \n",
    "# You can also write temporary files to /kaggle/temp/, but they won't be saved outside of the current session"
   ]
  },
  {
   "cell_type": "code",
   "execution_count": 2,
   "id": "97420106",
   "metadata": {
    "execution": {
     "iopub.execute_input": "2023-06-14T09:02:50.088416Z",
     "iopub.status.busy": "2023-06-14T09:02:50.087772Z",
     "iopub.status.idle": "2023-06-14T09:02:51.151973Z",
     "shell.execute_reply": "2023-06-14T09:02:51.151084Z"
    },
    "papermill": {
     "duration": 1.080564,
     "end_time": "2023-06-14T09:02:51.154297",
     "exception": false,
     "start_time": "2023-06-14T09:02:50.073733",
     "status": "completed"
    },
    "tags": []
   },
   "outputs": [],
   "source": [
    "import pandas as pd\n",
    "import numpy as np\n",
    "import matplotlib.pyplot as plt \n",
    "import seaborn as sns\n"
   ]
  },
  {
   "cell_type": "code",
   "execution_count": 3,
   "id": "a7885692",
   "metadata": {
    "execution": {
     "iopub.execute_input": "2023-06-14T09:02:51.182017Z",
     "iopub.status.busy": "2023-06-14T09:02:51.181725Z",
     "iopub.status.idle": "2023-06-14T09:02:51.229971Z",
     "shell.execute_reply": "2023-06-14T09:02:51.228947Z"
    },
    "papermill": {
     "duration": 0.064482,
     "end_time": "2023-06-14T09:02:51.232139",
     "exception": false,
     "start_time": "2023-06-14T09:02:51.167657",
     "status": "completed"
    },
    "tags": []
   },
   "outputs": [
    {
     "data": {
      "text/html": [
       "<div>\n",
       "<style scoped>\n",
       "    .dataframe tbody tr th:only-of-type {\n",
       "        vertical-align: middle;\n",
       "    }\n",
       "\n",
       "    .dataframe tbody tr th {\n",
       "        vertical-align: top;\n",
       "    }\n",
       "\n",
       "    .dataframe thead th {\n",
       "        text-align: right;\n",
       "    }\n",
       "</style>\n",
       "<table border=\"1\" class=\"dataframe\">\n",
       "  <thead>\n",
       "    <tr style=\"text-align: right;\">\n",
       "      <th></th>\n",
       "      <th>v1</th>\n",
       "      <th>v2</th>\n",
       "      <th>Unnamed: 2</th>\n",
       "      <th>Unnamed: 3</th>\n",
       "      <th>Unnamed: 4</th>\n",
       "    </tr>\n",
       "  </thead>\n",
       "  <tbody>\n",
       "    <tr>\n",
       "      <th>0</th>\n",
       "      <td>ham</td>\n",
       "      <td>Go until jurong point, crazy.. Available only ...</td>\n",
       "      <td>NaN</td>\n",
       "      <td>NaN</td>\n",
       "      <td>NaN</td>\n",
       "    </tr>\n",
       "    <tr>\n",
       "      <th>1</th>\n",
       "      <td>ham</td>\n",
       "      <td>Ok lar... Joking wif u oni...</td>\n",
       "      <td>NaN</td>\n",
       "      <td>NaN</td>\n",
       "      <td>NaN</td>\n",
       "    </tr>\n",
       "    <tr>\n",
       "      <th>2</th>\n",
       "      <td>spam</td>\n",
       "      <td>Free entry in 2 a wkly comp to win FA Cup fina...</td>\n",
       "      <td>NaN</td>\n",
       "      <td>NaN</td>\n",
       "      <td>NaN</td>\n",
       "    </tr>\n",
       "    <tr>\n",
       "      <th>3</th>\n",
       "      <td>ham</td>\n",
       "      <td>U dun say so early hor... U c already then say...</td>\n",
       "      <td>NaN</td>\n",
       "      <td>NaN</td>\n",
       "      <td>NaN</td>\n",
       "    </tr>\n",
       "    <tr>\n",
       "      <th>4</th>\n",
       "      <td>ham</td>\n",
       "      <td>Nah I don't think he goes to usf, he lives aro...</td>\n",
       "      <td>NaN</td>\n",
       "      <td>NaN</td>\n",
       "      <td>NaN</td>\n",
       "    </tr>\n",
       "    <tr>\n",
       "      <th>...</th>\n",
       "      <td>...</td>\n",
       "      <td>...</td>\n",
       "      <td>...</td>\n",
       "      <td>...</td>\n",
       "      <td>...</td>\n",
       "    </tr>\n",
       "    <tr>\n",
       "      <th>5567</th>\n",
       "      <td>spam</td>\n",
       "      <td>This is the 2nd time we have tried 2 contact u...</td>\n",
       "      <td>NaN</td>\n",
       "      <td>NaN</td>\n",
       "      <td>NaN</td>\n",
       "    </tr>\n",
       "    <tr>\n",
       "      <th>5568</th>\n",
       "      <td>ham</td>\n",
       "      <td>Will Ì_ b going to esplanade fr home?</td>\n",
       "      <td>NaN</td>\n",
       "      <td>NaN</td>\n",
       "      <td>NaN</td>\n",
       "    </tr>\n",
       "    <tr>\n",
       "      <th>5569</th>\n",
       "      <td>ham</td>\n",
       "      <td>Pity, * was in mood for that. So...any other s...</td>\n",
       "      <td>NaN</td>\n",
       "      <td>NaN</td>\n",
       "      <td>NaN</td>\n",
       "    </tr>\n",
       "    <tr>\n",
       "      <th>5570</th>\n",
       "      <td>ham</td>\n",
       "      <td>The guy did some bitching but I acted like i'd...</td>\n",
       "      <td>NaN</td>\n",
       "      <td>NaN</td>\n",
       "      <td>NaN</td>\n",
       "    </tr>\n",
       "    <tr>\n",
       "      <th>5571</th>\n",
       "      <td>ham</td>\n",
       "      <td>Rofl. Its true to its name</td>\n",
       "      <td>NaN</td>\n",
       "      <td>NaN</td>\n",
       "      <td>NaN</td>\n",
       "    </tr>\n",
       "  </tbody>\n",
       "</table>\n",
       "<p>5572 rows × 5 columns</p>\n",
       "</div>"
      ],
      "text/plain": [
       "        v1                                                 v2 Unnamed: 2  \\\n",
       "0      ham  Go until jurong point, crazy.. Available only ...        NaN   \n",
       "1      ham                      Ok lar... Joking wif u oni...        NaN   \n",
       "2     spam  Free entry in 2 a wkly comp to win FA Cup fina...        NaN   \n",
       "3      ham  U dun say so early hor... U c already then say...        NaN   \n",
       "4      ham  Nah I don't think he goes to usf, he lives aro...        NaN   \n",
       "...    ...                                                ...        ...   \n",
       "5567  spam  This is the 2nd time we have tried 2 contact u...        NaN   \n",
       "5568   ham              Will Ì_ b going to esplanade fr home?        NaN   \n",
       "5569   ham  Pity, * was in mood for that. So...any other s...        NaN   \n",
       "5570   ham  The guy did some bitching but I acted like i'd...        NaN   \n",
       "5571   ham                         Rofl. Its true to its name        NaN   \n",
       "\n",
       "     Unnamed: 3 Unnamed: 4  \n",
       "0           NaN        NaN  \n",
       "1           NaN        NaN  \n",
       "2           NaN        NaN  \n",
       "3           NaN        NaN  \n",
       "4           NaN        NaN  \n",
       "...         ...        ...  \n",
       "5567        NaN        NaN  \n",
       "5568        NaN        NaN  \n",
       "5569        NaN        NaN  \n",
       "5570        NaN        NaN  \n",
       "5571        NaN        NaN  \n",
       "\n",
       "[5572 rows x 5 columns]"
      ]
     },
     "execution_count": 3,
     "metadata": {},
     "output_type": "execute_result"
    }
   ],
   "source": [
    "df=pd.read_csv(\"/kaggle/input/sms-spam-collection-dataset/spam.csv\",sep=\",\",encoding=\"ISO-8859-1\")\n",
    "df"
   ]
  },
  {
   "cell_type": "code",
   "execution_count": 4,
   "id": "072ff836",
   "metadata": {
    "execution": {
     "iopub.execute_input": "2023-06-14T09:02:51.260479Z",
     "iopub.status.busy": "2023-06-14T09:02:51.259753Z",
     "iopub.status.idle": "2023-06-14T09:02:51.266673Z",
     "shell.execute_reply": "2023-06-14T09:02:51.265776Z"
    },
    "papermill": {
     "duration": 0.023134,
     "end_time": "2023-06-14T09:02:51.268595",
     "exception": false,
     "start_time": "2023-06-14T09:02:51.245461",
     "status": "completed"
    },
    "tags": []
   },
   "outputs": [
    {
     "data": {
      "text/plain": [
       "Index(['v1', 'v2', 'Unnamed: 2', 'Unnamed: 3', 'Unnamed: 4'], dtype='object')"
      ]
     },
     "execution_count": 4,
     "metadata": {},
     "output_type": "execute_result"
    }
   ],
   "source": [
    "df.columns"
   ]
  },
  {
   "cell_type": "code",
   "execution_count": 5,
   "id": "89248da1",
   "metadata": {
    "execution": {
     "iopub.execute_input": "2023-06-14T09:02:51.297768Z",
     "iopub.status.busy": "2023-06-14T09:02:51.297504Z",
     "iopub.status.idle": "2023-06-14T09:02:51.304451Z",
     "shell.execute_reply": "2023-06-14T09:02:51.303638Z"
    },
    "papermill": {
     "duration": 0.023011,
     "end_time": "2023-06-14T09:02:51.306524",
     "exception": false,
     "start_time": "2023-06-14T09:02:51.283513",
     "status": "completed"
    },
    "tags": []
   },
   "outputs": [],
   "source": [
    "df.drop(['Unnamed: 2', 'Unnamed: 3', 'Unnamed: 4'],axis=1,inplace=True)"
   ]
  },
  {
   "cell_type": "code",
   "execution_count": 6,
   "id": "03d84ed7",
   "metadata": {
    "execution": {
     "iopub.execute_input": "2023-06-14T09:02:51.335735Z",
     "iopub.status.busy": "2023-06-14T09:02:51.335478Z",
     "iopub.status.idle": "2023-06-14T09:02:51.347869Z",
     "shell.execute_reply": "2023-06-14T09:02:51.346953Z"
    },
    "papermill": {
     "duration": 0.029421,
     "end_time": "2023-06-14T09:02:51.349800",
     "exception": false,
     "start_time": "2023-06-14T09:02:51.320379",
     "status": "completed"
    },
    "tags": []
   },
   "outputs": [
    {
     "data": {
      "text/html": [
       "<div>\n",
       "<style scoped>\n",
       "    .dataframe tbody tr th:only-of-type {\n",
       "        vertical-align: middle;\n",
       "    }\n",
       "\n",
       "    .dataframe tbody tr th {\n",
       "        vertical-align: top;\n",
       "    }\n",
       "\n",
       "    .dataframe thead th {\n",
       "        text-align: right;\n",
       "    }\n",
       "</style>\n",
       "<table border=\"1\" class=\"dataframe\">\n",
       "  <thead>\n",
       "    <tr style=\"text-align: right;\">\n",
       "      <th></th>\n",
       "      <th>label</th>\n",
       "      <th>message</th>\n",
       "    </tr>\n",
       "  </thead>\n",
       "  <tbody>\n",
       "    <tr>\n",
       "      <th>0</th>\n",
       "      <td>ham</td>\n",
       "      <td>Go until jurong point, crazy.. Available only ...</td>\n",
       "    </tr>\n",
       "    <tr>\n",
       "      <th>1</th>\n",
       "      <td>ham</td>\n",
       "      <td>Ok lar... Joking wif u oni...</td>\n",
       "    </tr>\n",
       "    <tr>\n",
       "      <th>2</th>\n",
       "      <td>spam</td>\n",
       "      <td>Free entry in 2 a wkly comp to win FA Cup fina...</td>\n",
       "    </tr>\n",
       "    <tr>\n",
       "      <th>3</th>\n",
       "      <td>ham</td>\n",
       "      <td>U dun say so early hor... U c already then say...</td>\n",
       "    </tr>\n",
       "    <tr>\n",
       "      <th>4</th>\n",
       "      <td>ham</td>\n",
       "      <td>Nah I don't think he goes to usf, he lives aro...</td>\n",
       "    </tr>\n",
       "    <tr>\n",
       "      <th>...</th>\n",
       "      <td>...</td>\n",
       "      <td>...</td>\n",
       "    </tr>\n",
       "    <tr>\n",
       "      <th>5567</th>\n",
       "      <td>spam</td>\n",
       "      <td>This is the 2nd time we have tried 2 contact u...</td>\n",
       "    </tr>\n",
       "    <tr>\n",
       "      <th>5568</th>\n",
       "      <td>ham</td>\n",
       "      <td>Will Ì_ b going to esplanade fr home?</td>\n",
       "    </tr>\n",
       "    <tr>\n",
       "      <th>5569</th>\n",
       "      <td>ham</td>\n",
       "      <td>Pity, * was in mood for that. So...any other s...</td>\n",
       "    </tr>\n",
       "    <tr>\n",
       "      <th>5570</th>\n",
       "      <td>ham</td>\n",
       "      <td>The guy did some bitching but I acted like i'd...</td>\n",
       "    </tr>\n",
       "    <tr>\n",
       "      <th>5571</th>\n",
       "      <td>ham</td>\n",
       "      <td>Rofl. Its true to its name</td>\n",
       "    </tr>\n",
       "  </tbody>\n",
       "</table>\n",
       "<p>5572 rows × 2 columns</p>\n",
       "</div>"
      ],
      "text/plain": [
       "     label                                            message\n",
       "0      ham  Go until jurong point, crazy.. Available only ...\n",
       "1      ham                      Ok lar... Joking wif u oni...\n",
       "2     spam  Free entry in 2 a wkly comp to win FA Cup fina...\n",
       "3      ham  U dun say so early hor... U c already then say...\n",
       "4      ham  Nah I don't think he goes to usf, he lives aro...\n",
       "...    ...                                                ...\n",
       "5567  spam  This is the 2nd time we have tried 2 contact u...\n",
       "5568   ham              Will Ì_ b going to esplanade fr home?\n",
       "5569   ham  Pity, * was in mood for that. So...any other s...\n",
       "5570   ham  The guy did some bitching but I acted like i'd...\n",
       "5571   ham                         Rofl. Its true to its name\n",
       "\n",
       "[5572 rows x 2 columns]"
      ]
     },
     "execution_count": 6,
     "metadata": {},
     "output_type": "execute_result"
    }
   ],
   "source": [
    "df.rename({\"v1\":\"label\",\"v2\":\"message\"},axis=1,inplace=True)\n",
    "df"
   ]
  },
  {
   "cell_type": "code",
   "execution_count": 7,
   "id": "3f22ec75",
   "metadata": {
    "execution": {
     "iopub.execute_input": "2023-06-14T09:02:51.379169Z",
     "iopub.status.busy": "2023-06-14T09:02:51.378363Z",
     "iopub.status.idle": "2023-06-14T09:02:51.389083Z",
     "shell.execute_reply": "2023-06-14T09:02:51.388206Z"
    },
    "papermill": {
     "duration": 0.027598,
     "end_time": "2023-06-14T09:02:51.390945",
     "exception": false,
     "start_time": "2023-06-14T09:02:51.363347",
     "status": "completed"
    },
    "tags": []
   },
   "outputs": [
    {
     "data": {
      "text/plain": [
       "ham     4825\n",
       "spam     747\n",
       "Name: label, dtype: int64"
      ]
     },
     "execution_count": 7,
     "metadata": {},
     "output_type": "execute_result"
    }
   ],
   "source": [
    "## To check the the dataset is Balanced or Imbalaced \n",
    "df[\"label\"].value_counts()"
   ]
  },
  {
   "cell_type": "code",
   "execution_count": 8,
   "id": "b82edf5c",
   "metadata": {
    "execution": {
     "iopub.execute_input": "2023-06-14T09:02:51.419933Z",
     "iopub.status.busy": "2023-06-14T09:02:51.419155Z",
     "iopub.status.idle": "2023-06-14T09:02:51.646998Z",
     "shell.execute_reply": "2023-06-14T09:02:51.646154Z"
    },
    "papermill": {
     "duration": 0.24458,
     "end_time": "2023-06-14T09:02:51.649125",
     "exception": false,
     "start_time": "2023-06-14T09:02:51.404545",
     "status": "completed"
    },
    "tags": []
   },
   "outputs": [
    {
     "data": {
      "text/plain": [
       "<Axes: xlabel='label', ylabel='count'>"
      ]
     },
     "execution_count": 8,
     "metadata": {},
     "output_type": "execute_result"
    },
    {
     "data": {
      "image/png": "[encoded data removed]",
      "text/plain": [
       "<Figure size 640x480 with 1 Axes>"
      ]
     },
     "metadata": {},
     "output_type": "display_data"
    }
   ],
   "source": [
    "sns.countplot(x=df[\"label\"],)"
   ]
  },
  {
   "cell_type": "markdown",
   "id": "630e002c",
   "metadata": {
    "papermill": {
     "duration": 0.014182,
     "end_time": "2023-06-14T09:02:51.677480",
     "exception": false,
     "start_time": "2023-06-14T09:02:51.663298",
     "status": "completed"
    },
    "tags": []
   },
   "source": [
    "from the above plot we can see that dataset is imbalanced"
   ]
  },
  {
   "cell_type": "code",
   "execution_count": 9,
   "id": "61ac8b6b",
   "metadata": {
    "execution": {
     "iopub.execute_input": "2023-06-14T09:02:51.707713Z",
     "iopub.status.busy": "2023-06-14T09:02:51.706923Z",
     "iopub.status.idle": "2023-06-14T09:02:52.355950Z",
     "shell.execute_reply": "2023-06-14T09:02:52.355022Z"
    },
    "papermill": {
     "duration": 0.66646,
     "end_time": "2023-06-14T09:02:52.358423",
     "exception": false,
     "start_time": "2023-06-14T09:02:51.691963",
     "status": "completed"
    },
    "tags": []
   },
   "outputs": [],
   "source": [
    "import nltk\n",
    "from nltk.corpus import stopwords\n",
    "from nltk.stem import *\n",
    "\n",
    "import re"
   ]
  },
  {
   "cell_type": "code",
   "execution_count": 10,
   "id": "5c51c6bf",
   "metadata": {
    "execution": {
     "iopub.execute_input": "2023-06-14T09:02:52.389351Z",
     "iopub.status.busy": "2023-06-14T09:02:52.388540Z",
     "iopub.status.idle": "2023-06-14T09:02:52.393200Z",
     "shell.execute_reply": "2023-06-14T09:02:52.392358Z"
    },
    "papermill": {
     "duration": 0.021641,
     "end_time": "2023-06-14T09:02:52.395147",
     "exception": false,
     "start_time": "2023-06-14T09:02:52.373506",
     "status": "completed"
    },
    "tags": []
   },
   "outputs": [],
   "source": [
    "corpus=[]\n",
    "stemmer=PorterStemmer()"
   ]
  },
  {
   "cell_type": "code",
   "execution_count": 11,
   "id": "11703458",
   "metadata": {
    "execution": {
     "iopub.execute_input": "2023-06-14T09:02:52.425917Z",
     "iopub.status.busy": "2023-06-14T09:02:52.425150Z",
     "iopub.status.idle": "2023-06-14T09:03:04.695716Z",
     "shell.execute_reply": "2023-06-14T09:03:04.694825Z"
    },
    "papermill": {
     "duration": 12.288167,
     "end_time": "2023-06-14T09:03:04.698009",
     "exception": false,
     "start_time": "2023-06-14T09:02:52.409842",
     "status": "completed"
    },
    "tags": []
   },
   "outputs": [],
   "source": [
    "corpus=[]\n",
    "for i in range(len(df['message'])):\n",
    "    review=re.sub('[^a-zA-Z]',' ',df['message'][i]) ## First remove the non word characters\n",
    "    review=review.lower()\n",
    "    review=review.split()\n",
    "    review=[stemmer.stem(word) for word in review if not word in stopwords.words(\"english\")]\n",
    "    review=\" \".join(review)\n",
    "    corpus.append(review)"
   ]
  },
  {
   "cell_type": "code",
   "execution_count": 12,
   "id": "697b88d4",
   "metadata": {
    "execution": {
     "iopub.execute_input": "2023-06-14T09:03:04.728027Z",
     "iopub.status.busy": "2023-06-14T09:03:04.727747Z",
     "iopub.status.idle": "2023-06-14T09:03:04.733118Z",
     "shell.execute_reply": "2023-06-14T09:03:04.732306Z"
    },
    "papermill": {
     "duration": 0.022645,
     "end_time": "2023-06-14T09:03:04.735277",
     "exception": false,
     "start_time": "2023-06-14T09:03:04.712632",
     "status": "completed"
    },
    "tags": []
   },
   "outputs": [
    {
     "data": {
      "text/plain": [
       "'freemsg hey darl week word back like fun still tb ok xxx std chg send rcv'"
      ]
     },
     "execution_count": 12,
     "metadata": {},
     "output_type": "execute_result"
    }
   ],
   "source": [
    "corpus[5]"
   ]
  },
  {
   "cell_type": "markdown",
   "id": "c2aec8c9",
   "metadata": {
    "papermill": {
     "duration": 0.014122,
     "end_time": "2023-06-14T09:03:04.763609",
     "exception": false,
     "start_time": "2023-06-14T09:03:04.749487",
     "status": "completed"
    },
    "tags": []
   },
   "source": [
    "## Bag of Words Model for Text representation of independenet feature"
   ]
  },
  {
   "cell_type": "code",
   "execution_count": 13,
   "id": "edea88a4",
   "metadata": {
    "execution": {
     "iopub.execute_input": "2023-06-14T09:03:04.793942Z",
     "iopub.status.busy": "2023-06-14T09:03:04.793113Z",
     "iopub.status.idle": "2023-06-14T09:03:04.955307Z",
     "shell.execute_reply": "2023-06-14T09:03:04.954354Z"
    },
    "papermill": {
     "duration": 0.179975,
     "end_time": "2023-06-14T09:03:04.957911",
     "exception": false,
     "start_time": "2023-06-14T09:03:04.777936",
     "status": "completed"
    },
    "tags": []
   },
   "outputs": [],
   "source": [
    "import sklearn\n",
    "from sklearn.feature_extraction.text import CountVectorizer\n",
    "vectorizer = CountVectorizer(max_features=5000) \n",
    "## we are just trying top 5000 Words,then we can tune it accoring to accuracy and other matrix\n",
    "X = vectorizer.fit_transform(corpus).toarray()"
   ]
  },
  {
   "cell_type": "code",
   "execution_count": 14,
   "id": "6c57992e",
   "metadata": {
    "execution": {
     "iopub.execute_input": "2023-06-14T09:03:04.988748Z",
     "iopub.status.busy": "2023-06-14T09:03:04.988449Z",
     "iopub.status.idle": "2023-06-14T09:03:04.994632Z",
     "shell.execute_reply": "2023-06-14T09:03:04.993741Z"
    },
    "papermill": {
     "duration": 0.02401,
     "end_time": "2023-06-14T09:03:04.996613",
     "exception": false,
     "start_time": "2023-06-14T09:03:04.972603",
     "status": "completed"
    },
    "tags": []
   },
   "outputs": [
    {
     "data": {
      "text/plain": [
       "(array([[0, 0, 0, ..., 0, 0, 0],\n",
       "        [0, 0, 0, ..., 0, 0, 0],\n",
       "        [0, 0, 0, ..., 0, 0, 0],\n",
       "        ...,\n",
       "        [0, 0, 0, ..., 0, 0, 0],\n",
       "        [0, 0, 0, ..., 0, 0, 0],\n",
       "        [0, 0, 0, ..., 0, 0, 0]]),\n",
       " (5572, 5000))"
      ]
     },
     "execution_count": 14,
     "metadata": {},
     "output_type": "execute_result"
    }
   ],
   "source": [
    "## This is Sparsed Matrix of Dependent features \n",
    "X,X.shape"
   ]
  },
  {
   "cell_type": "code",
   "execution_count": 15,
   "id": "988452df",
   "metadata": {
    "execution": {
     "iopub.execute_input": "2023-06-14T09:03:05.027305Z",
     "iopub.status.busy": "2023-06-14T09:03:05.026575Z",
     "iopub.status.idle": "2023-06-14T09:03:05.033637Z",
     "shell.execute_reply": "2023-06-14T09:03:05.032720Z"
    },
    "papermill": {
     "duration": 0.024224,
     "end_time": "2023-06-14T09:03:05.035573",
     "exception": false,
     "start_time": "2023-06-14T09:03:05.011349",
     "status": "completed"
    },
    "tags": []
   },
   "outputs": [
    {
     "data": {
      "text/plain": [
       "array(['ham', 'spam'], dtype=object)"
      ]
     },
     "execution_count": 15,
     "metadata": {},
     "output_type": "execute_result"
    }
   ],
   "source": [
    "df[\"label\"].unique()"
   ]
  },
  {
   "cell_type": "markdown",
   "id": "5f0c9381",
   "metadata": {
    "papermill": {
     "duration": 0.014762,
     "end_time": "2023-06-14T09:03:05.064829",
     "exception": false,
     "start_time": "2023-06-14T09:03:05.050067",
     "status": "completed"
    },
    "tags": []
   },
   "source": [
    "#### We treansformed the dependent features but our Indpendent(Target) feature is yet to be converted into numerical.\n",
    " - Because this column has only 2 Categories we can try one-Hot Encoding or pd.get_dummies\n"
   ]
  },
  {
   "cell_type": "code",
   "execution_count": 16,
   "id": "ceddd122",
   "metadata": {
    "execution": {
     "iopub.execute_input": "2023-06-14T09:03:05.094990Z",
     "iopub.status.busy": "2023-06-14T09:03:05.094290Z",
     "iopub.status.idle": "2023-06-14T09:03:05.100369Z",
     "shell.execute_reply": "2023-06-14T09:03:05.099587Z"
    },
    "papermill": {
     "duration": 0.023439,
     "end_time": "2023-06-14T09:03:05.102530",
     "exception": false,
     "start_time": "2023-06-14T09:03:05.079091",
     "status": "completed"
    },
    "tags": []
   },
   "outputs": [],
   "source": [
    "y=pd.get_dummies(df[\"label\"])"
   ]
  },
  {
   "cell_type": "code",
   "execution_count": 17,
   "id": "be33665f",
   "metadata": {
    "execution": {
     "iopub.execute_input": "2023-06-14T09:03:05.132474Z",
     "iopub.status.busy": "2023-06-14T09:03:05.131915Z",
     "iopub.status.idle": "2023-06-14T09:03:05.141911Z",
     "shell.execute_reply": "2023-06-14T09:03:05.140842Z"
    },
    "papermill": {
     "duration": 0.027224,
     "end_time": "2023-06-14T09:03:05.143959",
     "exception": false,
     "start_time": "2023-06-14T09:03:05.116735",
     "status": "completed"
    },
    "tags": []
   },
   "outputs": [
    {
     "data": {
      "text/html": [
       "<div>\n",
       "<style scoped>\n",
       "    .dataframe tbody tr th:only-of-type {\n",
       "        vertical-align: middle;\n",
       "    }\n",
       "\n",
       "    .dataframe tbody tr th {\n",
       "        vertical-align: top;\n",
       "    }\n",
       "\n",
       "    .dataframe thead th {\n",
       "        text-align: right;\n",
       "    }\n",
       "</style>\n",
       "<table border=\"1\" class=\"dataframe\">\n",
       "  <thead>\n",
       "    <tr style=\"text-align: right;\">\n",
       "      <th></th>\n",
       "      <th>ham</th>\n",
       "      <th>spam</th>\n",
       "    </tr>\n",
       "  </thead>\n",
       "  <tbody>\n",
       "    <tr>\n",
       "      <th>0</th>\n",
       "      <td>1</td>\n",
       "      <td>0</td>\n",
       "    </tr>\n",
       "    <tr>\n",
       "      <th>1</th>\n",
       "      <td>1</td>\n",
       "      <td>0</td>\n",
       "    </tr>\n",
       "    <tr>\n",
       "      <th>2</th>\n",
       "      <td>0</td>\n",
       "      <td>1</td>\n",
       "    </tr>\n",
       "    <tr>\n",
       "      <th>3</th>\n",
       "      <td>1</td>\n",
       "      <td>0</td>\n",
       "    </tr>\n",
       "    <tr>\n",
       "      <th>4</th>\n",
       "      <td>1</td>\n",
       "      <td>0</td>\n",
       "    </tr>\n",
       "    <tr>\n",
       "      <th>...</th>\n",
       "      <td>...</td>\n",
       "      <td>...</td>\n",
       "    </tr>\n",
       "    <tr>\n",
       "      <th>5567</th>\n",
       "      <td>0</td>\n",
       "      <td>1</td>\n",
       "    </tr>\n",
       "    <tr>\n",
       "      <th>5568</th>\n",
       "      <td>1</td>\n",
       "      <td>0</td>\n",
       "    </tr>\n",
       "    <tr>\n",
       "      <th>5569</th>\n",
       "      <td>1</td>\n",
       "      <td>0</td>\n",
       "    </tr>\n",
       "    <tr>\n",
       "      <th>5570</th>\n",
       "      <td>1</td>\n",
       "      <td>0</td>\n",
       "    </tr>\n",
       "    <tr>\n",
       "      <th>5571</th>\n",
       "      <td>1</td>\n",
       "      <td>0</td>\n",
       "    </tr>\n",
       "  </tbody>\n",
       "</table>\n",
       "<p>5572 rows × 2 columns</p>\n",
       "</div>"
      ],
      "text/plain": [
       "      ham  spam\n",
       "0       1     0\n",
       "1       1     0\n",
       "2       0     1\n",
       "3       1     0\n",
       "4       1     0\n",
       "...   ...   ...\n",
       "5567    0     1\n",
       "5568    1     0\n",
       "5569    1     0\n",
       "5570    1     0\n",
       "5571    1     0\n",
       "\n",
       "[5572 rows x 2 columns]"
      ]
     },
     "execution_count": 17,
     "metadata": {},
     "output_type": "execute_result"
    }
   ],
   "source": [
    "y"
   ]
  },
  {
   "cell_type": "markdown",
   "id": "ad0d6233",
   "metadata": {
    "papermill": {
     "duration": 0.015391,
     "end_time": "2023-06-14T09:03:05.174036",
     "exception": false,
     "start_time": "2023-06-14T09:03:05.158645",
     "status": "completed"
    },
    "tags": []
   },
   "source": [
    "We can drop one column because we can predict both results in one column only and we can do that in pd.get_dummies function"
   ]
  },
  {
   "cell_type": "markdown",
   "id": "91210fd2",
   "metadata": {
    "papermill": {
     "duration": 0.014579,
     "end_time": "2023-06-14T09:03:05.203340",
     "exception": false,
     "start_time": "2023-06-14T09:03:05.188761",
     "status": "completed"
    },
    "tags": []
   },
   "source": []
  },
  {
   "cell_type": "code",
   "execution_count": 18,
   "id": "393d82bb",
   "metadata": {
    "execution": {
     "iopub.execute_input": "2023-06-14T09:03:05.234216Z",
     "iopub.status.busy": "2023-06-14T09:03:05.233592Z",
     "iopub.status.idle": "2023-06-14T09:03:05.244448Z",
     "shell.execute_reply": "2023-06-14T09:03:05.243523Z"
    },
    "papermill": {
     "duration": 0.028499,
     "end_time": "2023-06-14T09:03:05.246413",
     "exception": false,
     "start_time": "2023-06-14T09:03:05.217914",
     "status": "completed"
    },
    "tags": []
   },
   "outputs": [
    {
     "data": {
      "text/html": [
       "<div>\n",
       "<style scoped>\n",
       "    .dataframe tbody tr th:only-of-type {\n",
       "        vertical-align: middle;\n",
       "    }\n",
       "\n",
       "    .dataframe tbody tr th {\n",
       "        vertical-align: top;\n",
       "    }\n",
       "\n",
       "    .dataframe thead th {\n",
       "        text-align: right;\n",
       "    }\n",
       "</style>\n",
       "<table border=\"1\" class=\"dataframe\">\n",
       "  <thead>\n",
       "    <tr style=\"text-align: right;\">\n",
       "      <th></th>\n",
       "      <th>spam</th>\n",
       "    </tr>\n",
       "  </thead>\n",
       "  <tbody>\n",
       "    <tr>\n",
       "      <th>0</th>\n",
       "      <td>0</td>\n",
       "    </tr>\n",
       "    <tr>\n",
       "      <th>1</th>\n",
       "      <td>0</td>\n",
       "    </tr>\n",
       "    <tr>\n",
       "      <th>2</th>\n",
       "      <td>1</td>\n",
       "    </tr>\n",
       "    <tr>\n",
       "      <th>3</th>\n",
       "      <td>0</td>\n",
       "    </tr>\n",
       "    <tr>\n",
       "      <th>4</th>\n",
       "      <td>0</td>\n",
       "    </tr>\n",
       "    <tr>\n",
       "      <th>...</th>\n",
       "      <td>...</td>\n",
       "    </tr>\n",
       "    <tr>\n",
       "      <th>5567</th>\n",
       "      <td>1</td>\n",
       "    </tr>\n",
       "    <tr>\n",
       "      <th>5568</th>\n",
       "      <td>0</td>\n",
       "    </tr>\n",
       "    <tr>\n",
       "      <th>5569</th>\n",
       "      <td>0</td>\n",
       "    </tr>\n",
       "    <tr>\n",
       "      <th>5570</th>\n",
       "      <td>0</td>\n",
       "    </tr>\n",
       "    <tr>\n",
       "      <th>5571</th>\n",
       "      <td>0</td>\n",
       "    </tr>\n",
       "  </tbody>\n",
       "</table>\n",
       "<p>5572 rows × 1 columns</p>\n",
       "</div>"
      ],
      "text/plain": [
       "      spam\n",
       "0        0\n",
       "1        0\n",
       "2        1\n",
       "3        0\n",
       "4        0\n",
       "...    ...\n",
       "5567     1\n",
       "5568     0\n",
       "5569     0\n",
       "5570     0\n",
       "5571     0\n",
       "\n",
       "[5572 rows x 1 columns]"
      ]
     },
     "execution_count": 18,
     "metadata": {},
     "output_type": "execute_result"
    }
   ],
   "source": [
    "## Now we are getting the Spam Column into the model\n",
    "y=pd.get_dummies(df[\"label\"],drop_first=True)\n",
    "y"
   ]
  },
  {
   "cell_type": "markdown",
   "id": "de91a6cf",
   "metadata": {
    "papermill": {
     "duration": 0.014525,
     "end_time": "2023-06-14T09:03:05.276540",
     "exception": false,
     "start_time": "2023-06-14T09:03:05.262015",
     "status": "completed"
    },
    "tags": []
   },
   "source": [
    "## Gaussian Naive Bayes\n"
   ]
  },
  {
   "cell_type": "code",
   "execution_count": 19,
   "id": "628b01d9",
   "metadata": {
    "execution": {
     "iopub.execute_input": "2023-06-14T09:03:05.310016Z",
     "iopub.status.busy": "2023-06-14T09:03:05.309756Z",
     "iopub.status.idle": "2023-06-14T09:03:05.851366Z",
     "shell.execute_reply": "2023-06-14T09:03:05.850337Z"
    },
    "papermill": {
     "duration": 0.559909,
     "end_time": "2023-06-14T09:03:05.853978",
     "exception": false,
     "start_time": "2023-06-14T09:03:05.294069",
     "status": "completed"
    },
    "tags": []
   },
   "outputs": [
    {
     "name": "stderr",
     "output_type": "stream",
     "text": [
      "/opt/conda/lib/python3.10/site-packages/sklearn/utils/validation.py:1143: DataConversionWarning: A column-vector y was passed when a 1d array was expected. Please change the shape of y to (n_samples, ), for example using ravel().\n",
      "  y = column_or_1d(y, warn=True)\n"
     ]
    }
   ],
   "source": [
    "from sklearn.model_selection import train_test_split\n",
    "from sklearn.naive_bayes import GaussianNB\n",
    "X_train, X_test, y_train, y_test = train_test_split(X, y, test_size=0.3, random_state=42)\n",
    "gnb = GaussianNB()\n",
    "y_pred = gnb.fit(X_train, y_train).predict(X_test)"
   ]
  },
  {
   "cell_type": "code",
   "execution_count": 20,
   "id": "e445a530",
   "metadata": {
    "execution": {
     "iopub.execute_input": "2023-06-14T09:03:05.886627Z",
     "iopub.status.busy": "2023-06-14T09:03:05.885797Z",
     "iopub.status.idle": "2023-06-14T09:03:05.895977Z",
     "shell.execute_reply": "2023-06-14T09:03:05.895085Z"
    },
    "papermill": {
     "duration": 0.028372,
     "end_time": "2023-06-14T09:03:05.898039",
     "exception": false,
     "start_time": "2023-06-14T09:03:05.869667",
     "status": "completed"
    },
    "tags": []
   },
   "outputs": [
    {
     "data": {
      "text/plain": [
       "0.8654306220095693"
      ]
     },
     "execution_count": 20,
     "metadata": {},
     "output_type": "execute_result"
    }
   ],
   "source": [
    "from sklearn.metrics import confusion_matrix,accuracy_score\n",
    "\n",
    "accuracy_score(y_test, y_pred)"
   ]
  },
  {
   "cell_type": "markdown",
   "id": "52d8771b",
   "metadata": {
    "papermill": {
     "duration": 0.014987,
     "end_time": "2023-06-14T09:03:05.928141",
     "exception": false,
     "start_time": "2023-06-14T09:03:05.913154",
     "status": "completed"
    },
    "tags": []
   },
   "source": [
    "#### We are getting the 86% , if we provide \"spam\" column as the \"Target(y)\" Column, we can change the column for \"ham\" and will check for accuracy, because , the ham frequency is greater than spam"
   ]
  },
  {
   "cell_type": "code",
   "execution_count": 21,
   "id": "4d78ac8d",
   "metadata": {
    "execution": {
     "iopub.execute_input": "2023-06-14T09:03:05.960073Z",
     "iopub.status.busy": "2023-06-14T09:03:05.959321Z",
     "iopub.status.idle": "2023-06-14T09:03:05.969527Z",
     "shell.execute_reply": "2023-06-14T09:03:05.968542Z"
    },
    "papermill": {
     "duration": 0.028118,
     "end_time": "2023-06-14T09:03:05.971431",
     "exception": false,
     "start_time": "2023-06-14T09:03:05.943313",
     "status": "completed"
    },
    "tags": []
   },
   "outputs": [
    {
     "data": {
      "text/plain": [
       "array([[1255,  198],\n",
       "       [  27,  192]])"
      ]
     },
     "execution_count": 21,
     "metadata": {},
     "output_type": "execute_result"
    }
   ],
   "source": [
    "confusion_matrix(y_test, y_pred)"
   ]
  },
  {
   "cell_type": "code",
   "execution_count": 22,
   "id": "05fabcf5",
   "metadata": {
    "execution": {
     "iopub.execute_input": "2023-06-14T09:03:06.003955Z",
     "iopub.status.busy": "2023-06-14T09:03:06.003249Z",
     "iopub.status.idle": "2023-06-14T09:03:06.013250Z",
     "shell.execute_reply": "2023-06-14T09:03:06.012357Z"
    },
    "papermill": {
     "duration": 0.028028,
     "end_time": "2023-06-14T09:03:06.015206",
     "exception": false,
     "start_time": "2023-06-14T09:03:05.987178",
     "status": "completed"
    },
    "tags": []
   },
   "outputs": [
    {
     "data": {
      "text/html": [
       "<div>\n",
       "<style scoped>\n",
       "    .dataframe tbody tr th:only-of-type {\n",
       "        vertical-align: middle;\n",
       "    }\n",
       "\n",
       "    .dataframe tbody tr th {\n",
       "        vertical-align: top;\n",
       "    }\n",
       "\n",
       "    .dataframe thead th {\n",
       "        text-align: right;\n",
       "    }\n",
       "</style>\n",
       "<table border=\"1\" class=\"dataframe\">\n",
       "  <thead>\n",
       "    <tr style=\"text-align: right;\">\n",
       "      <th></th>\n",
       "      <th>label</th>\n",
       "      <th>message</th>\n",
       "    </tr>\n",
       "  </thead>\n",
       "  <tbody>\n",
       "    <tr>\n",
       "      <th>0</th>\n",
       "      <td>ham</td>\n",
       "      <td>Go until jurong point, crazy.. Available only ...</td>\n",
       "    </tr>\n",
       "    <tr>\n",
       "      <th>1</th>\n",
       "      <td>ham</td>\n",
       "      <td>Ok lar... Joking wif u oni...</td>\n",
       "    </tr>\n",
       "    <tr>\n",
       "      <th>2</th>\n",
       "      <td>spam</td>\n",
       "      <td>Free entry in 2 a wkly comp to win FA Cup fina...</td>\n",
       "    </tr>\n",
       "    <tr>\n",
       "      <th>3</th>\n",
       "      <td>ham</td>\n",
       "      <td>U dun say so early hor... U c already then say...</td>\n",
       "    </tr>\n",
       "    <tr>\n",
       "      <th>4</th>\n",
       "      <td>ham</td>\n",
       "      <td>Nah I don't think he goes to usf, he lives aro...</td>\n",
       "    </tr>\n",
       "    <tr>\n",
       "      <th>...</th>\n",
       "      <td>...</td>\n",
       "      <td>...</td>\n",
       "    </tr>\n",
       "    <tr>\n",
       "      <th>5567</th>\n",
       "      <td>spam</td>\n",
       "      <td>This is the 2nd time we have tried 2 contact u...</td>\n",
       "    </tr>\n",
       "    <tr>\n",
       "      <th>5568</th>\n",
       "      <td>ham</td>\n",
       "      <td>Will Ì_ b going to esplanade fr home?</td>\n",
       "    </tr>\n",
       "    <tr>\n",
       "      <th>5569</th>\n",
       "      <td>ham</td>\n",
       "      <td>Pity, * was in mood for that. So...any other s...</td>\n",
       "    </tr>\n",
       "    <tr>\n",
       "      <th>5570</th>\n",
       "      <td>ham</td>\n",
       "      <td>The guy did some bitching but I acted like i'd...</td>\n",
       "    </tr>\n",
       "    <tr>\n",
       "      <th>5571</th>\n",
       "      <td>ham</td>\n",
       "      <td>Rofl. Its true to its name</td>\n",
       "    </tr>\n",
       "  </tbody>\n",
       "</table>\n",
       "<p>5572 rows × 2 columns</p>\n",
       "</div>"
      ],
      "text/plain": [
       "     label                                            message\n",
       "0      ham  Go until jurong point, crazy.. Available only ...\n",
       "1      ham                      Ok lar... Joking wif u oni...\n",
       "2     spam  Free entry in 2 a wkly comp to win FA Cup fina...\n",
       "3      ham  U dun say so early hor... U c already then say...\n",
       "4      ham  Nah I don't think he goes to usf, he lives aro...\n",
       "...    ...                                                ...\n",
       "5567  spam  This is the 2nd time we have tried 2 contact u...\n",
       "5568   ham              Will Ì_ b going to esplanade fr home?\n",
       "5569   ham  Pity, * was in mood for that. So...any other s...\n",
       "5570   ham  The guy did some bitching but I acted like i'd...\n",
       "5571   ham                         Rofl. Its true to its name\n",
       "\n",
       "[5572 rows x 2 columns]"
      ]
     },
     "execution_count": 22,
     "metadata": {},
     "output_type": "execute_result"
    }
   ],
   "source": [
    "df"
   ]
  },
  {
   "cell_type": "code",
   "execution_count": 23,
   "id": "9ce04a98",
   "metadata": {
    "execution": {
     "iopub.execute_input": "2023-06-14T09:03:06.048413Z",
     "iopub.status.busy": "2023-06-14T09:03:06.047693Z",
     "iopub.status.idle": "2023-06-14T09:03:06.057943Z",
     "shell.execute_reply": "2023-06-14T09:03:06.057042Z"
    },
    "papermill": {
     "duration": 0.028719,
     "end_time": "2023-06-14T09:03:06.059865",
     "exception": false,
     "start_time": "2023-06-14T09:03:06.031146",
     "status": "completed"
    },
    "tags": []
   },
   "outputs": [
    {
     "data": {
      "text/html": [
       "<div>\n",
       "<style scoped>\n",
       "    .dataframe tbody tr th:only-of-type {\n",
       "        vertical-align: middle;\n",
       "    }\n",
       "\n",
       "    .dataframe tbody tr th {\n",
       "        vertical-align: top;\n",
       "    }\n",
       "\n",
       "    .dataframe thead th {\n",
       "        text-align: right;\n",
       "    }\n",
       "</style>\n",
       "<table border=\"1\" class=\"dataframe\">\n",
       "  <thead>\n",
       "    <tr style=\"text-align: right;\">\n",
       "      <th></th>\n",
       "      <th>spam</th>\n",
       "    </tr>\n",
       "  </thead>\n",
       "  <tbody>\n",
       "    <tr>\n",
       "      <th>0</th>\n",
       "      <td>0</td>\n",
       "    </tr>\n",
       "    <tr>\n",
       "      <th>1</th>\n",
       "      <td>0</td>\n",
       "    </tr>\n",
       "    <tr>\n",
       "      <th>2</th>\n",
       "      <td>1</td>\n",
       "    </tr>\n",
       "    <tr>\n",
       "      <th>3</th>\n",
       "      <td>0</td>\n",
       "    </tr>\n",
       "    <tr>\n",
       "      <th>4</th>\n",
       "      <td>0</td>\n",
       "    </tr>\n",
       "    <tr>\n",
       "      <th>...</th>\n",
       "      <td>...</td>\n",
       "    </tr>\n",
       "    <tr>\n",
       "      <th>5567</th>\n",
       "      <td>1</td>\n",
       "    </tr>\n",
       "    <tr>\n",
       "      <th>5568</th>\n",
       "      <td>0</td>\n",
       "    </tr>\n",
       "    <tr>\n",
       "      <th>5569</th>\n",
       "      <td>0</td>\n",
       "    </tr>\n",
       "    <tr>\n",
       "      <th>5570</th>\n",
       "      <td>0</td>\n",
       "    </tr>\n",
       "    <tr>\n",
       "      <th>5571</th>\n",
       "      <td>0</td>\n",
       "    </tr>\n",
       "  </tbody>\n",
       "</table>\n",
       "<p>5572 rows × 1 columns</p>\n",
       "</div>"
      ],
      "text/plain": [
       "      spam\n",
       "0        0\n",
       "1        0\n",
       "2        1\n",
       "3        0\n",
       "4        0\n",
       "...    ...\n",
       "5567     1\n",
       "5568     0\n",
       "5569     0\n",
       "5570     0\n",
       "5571     0\n",
       "\n",
       "[5572 rows x 1 columns]"
      ]
     },
     "execution_count": 23,
     "metadata": {},
     "output_type": "execute_result"
    }
   ],
   "source": [
    "## Now we are getting the Spam Column into the model\n",
    "y=pd.get_dummies(df[\"label\"],drop_first=True)\n",
    "y"
   ]
  },
  {
   "cell_type": "code",
   "execution_count": 24,
   "id": "7093a728",
   "metadata": {
    "execution": {
     "iopub.execute_input": "2023-06-14T09:03:06.099202Z",
     "iopub.status.busy": "2023-06-14T09:03:06.098839Z",
     "iopub.status.idle": "2023-06-14T09:03:06.104493Z",
     "shell.execute_reply": "2023-06-14T09:03:06.103532Z"
    },
    "papermill": {
     "duration": 0.029822,
     "end_time": "2023-06-14T09:03:06.106563",
     "exception": false,
     "start_time": "2023-06-14T09:03:06.076741",
     "status": "completed"
    },
    "tags": []
   },
   "outputs": [],
   "source": [
    "## To check the accuracy of model changes if we provide 1 for spam\n",
    "y.replace([0,1],[1,0],inplace=True)"
   ]
  },
  {
   "cell_type": "code",
   "execution_count": 25,
   "id": "a448a0e7",
   "metadata": {
    "execution": {
     "iopub.execute_input": "2023-06-14T09:03:06.144523Z",
     "iopub.status.busy": "2023-06-14T09:03:06.143814Z",
     "iopub.status.idle": "2023-06-14T09:03:06.642273Z",
     "shell.execute_reply": "2023-06-14T09:03:06.641323Z"
    },
    "papermill": {
     "duration": 0.51994,
     "end_time": "2023-06-14T09:03:06.644689",
     "exception": false,
     "start_time": "2023-06-14T09:03:06.124749",
     "status": "completed"
    },
    "tags": []
   },
   "outputs": [
    {
     "name": "stderr",
     "output_type": "stream",
     "text": [
      "/opt/conda/lib/python3.10/site-packages/sklearn/utils/validation.py:1143: DataConversionWarning: A column-vector y was passed when a 1d array was expected. Please change the shape of y to (n_samples, ), for example using ravel().\n",
      "  y = column_or_1d(y, warn=True)\n"
     ]
    }
   ],
   "source": [
    "from sklearn.model_selection import train_test_split\n",
    "from sklearn.naive_bayes import GaussianNB\n",
    "X_train, X_test, y_train, y_test = train_test_split(X, y, test_size=0.3, random_state=42)\n",
    "gnb = GaussianNB()\n",
    "y_pred = gnb.fit(X_train, y_train).predict(X_test)"
   ]
  },
  {
   "cell_type": "code",
   "execution_count": 26,
   "id": "744e73e2",
   "metadata": {
    "execution": {
     "iopub.execute_input": "2023-06-14T09:03:06.677874Z",
     "iopub.status.busy": "2023-06-14T09:03:06.677558Z",
     "iopub.status.idle": "2023-06-14T09:03:06.692349Z",
     "shell.execute_reply": "2023-06-14T09:03:06.691264Z"
    },
    "papermill": {
     "duration": 0.033616,
     "end_time": "2023-06-14T09:03:06.694466",
     "exception": false,
     "start_time": "2023-06-14T09:03:06.660850",
     "status": "completed"
    },
    "tags": []
   },
   "outputs": [
    {
     "data": {
      "text/plain": [
       "(0.8654306220095693,\n",
       " array([[ 192,   27],\n",
       "        [ 198, 1255]]))"
      ]
     },
     "execution_count": 26,
     "metadata": {},
     "output_type": "execute_result"
    }
   ],
   "source": [
    "accuracy_score(y_test, y_pred),confusion_matrix(y_test, y_pred)"
   ]
  },
  {
   "cell_type": "markdown",
   "id": "69faa896",
   "metadata": {
    "papermill": {
     "duration": 0.015461,
     "end_time": "2023-06-14T09:03:06.725833",
     "exception": false,
     "start_time": "2023-06-14T09:03:06.710372",
     "status": "completed"
    },
    "tags": []
   },
   "source": [
    "### We are getting the  accuracy of 86% so we have to tune the parameters , we can do this by changing the \n",
    "- stemming into lemmatisation  \n",
    "- max_features(Top Features) in the model\n",
    "- changing BOW model into TF-IDF Model"
   ]
  },
  {
   "cell_type": "code",
   "execution_count": 27,
   "id": "894414a9",
   "metadata": {
    "execution": {
     "iopub.execute_input": "2023-06-14T09:03:06.758806Z",
     "iopub.status.busy": "2023-06-14T09:03:06.758033Z",
     "iopub.status.idle": "2023-06-14T09:03:06.768825Z",
     "shell.execute_reply": "2023-06-14T09:03:06.767919Z"
    },
    "papermill": {
     "duration": 0.0295,
     "end_time": "2023-06-14T09:03:06.770970",
     "exception": false,
     "start_time": "2023-06-14T09:03:06.741470",
     "status": "completed"
    },
    "tags": []
   },
   "outputs": [
    {
     "data": {
      "text/html": [
       "<div>\n",
       "<style scoped>\n",
       "    .dataframe tbody tr th:only-of-type {\n",
       "        vertical-align: middle;\n",
       "    }\n",
       "\n",
       "    .dataframe tbody tr th {\n",
       "        vertical-align: top;\n",
       "    }\n",
       "\n",
       "    .dataframe thead th {\n",
       "        text-align: right;\n",
       "    }\n",
       "</style>\n",
       "<table border=\"1\" class=\"dataframe\">\n",
       "  <thead>\n",
       "    <tr style=\"text-align: right;\">\n",
       "      <th></th>\n",
       "      <th>spam</th>\n",
       "    </tr>\n",
       "  </thead>\n",
       "  <tbody>\n",
       "    <tr>\n",
       "      <th>0</th>\n",
       "      <td>0</td>\n",
       "    </tr>\n",
       "    <tr>\n",
       "      <th>1</th>\n",
       "      <td>0</td>\n",
       "    </tr>\n",
       "    <tr>\n",
       "      <th>2</th>\n",
       "      <td>1</td>\n",
       "    </tr>\n",
       "    <tr>\n",
       "      <th>3</th>\n",
       "      <td>0</td>\n",
       "    </tr>\n",
       "    <tr>\n",
       "      <th>4</th>\n",
       "      <td>0</td>\n",
       "    </tr>\n",
       "    <tr>\n",
       "      <th>...</th>\n",
       "      <td>...</td>\n",
       "    </tr>\n",
       "    <tr>\n",
       "      <th>5567</th>\n",
       "      <td>1</td>\n",
       "    </tr>\n",
       "    <tr>\n",
       "      <th>5568</th>\n",
       "      <td>0</td>\n",
       "    </tr>\n",
       "    <tr>\n",
       "      <th>5569</th>\n",
       "      <td>0</td>\n",
       "    </tr>\n",
       "    <tr>\n",
       "      <th>5570</th>\n",
       "      <td>0</td>\n",
       "    </tr>\n",
       "    <tr>\n",
       "      <th>5571</th>\n",
       "      <td>0</td>\n",
       "    </tr>\n",
       "  </tbody>\n",
       "</table>\n",
       "<p>5572 rows × 1 columns</p>\n",
       "</div>"
      ],
      "text/plain": [
       "      spam\n",
       "0        0\n",
       "1        0\n",
       "2        1\n",
       "3        0\n",
       "4        0\n",
       "...    ...\n",
       "5567     1\n",
       "5568     0\n",
       "5569     0\n",
       "5570     0\n",
       "5571     0\n",
       "\n",
       "[5572 rows x 1 columns]"
      ]
     },
     "execution_count": 27,
     "metadata": {},
     "output_type": "execute_result"
    }
   ],
   "source": [
    "## Now we are getting the Spam Column into the model\n",
    "y=pd.get_dummies(df[\"label\"],drop_first=True)\n",
    "y"
   ]
  },
  {
   "cell_type": "markdown",
   "id": "c2811a51",
   "metadata": {
    "papermill": {
     "duration": 0.015903,
     "end_time": "2023-06-14T09:03:06.802998",
     "exception": false,
     "start_time": "2023-06-14T09:03:06.787095",
     "status": "completed"
    },
    "tags": []
   },
   "source": [
    "## We are checking for TF-IDF model"
   ]
  },
  {
   "cell_type": "code",
   "execution_count": 28,
   "id": "35245227",
   "metadata": {
    "execution": {
     "iopub.execute_input": "2023-06-14T09:03:06.836415Z",
     "iopub.status.busy": "2023-06-14T09:03:06.835632Z",
     "iopub.status.idle": "2023-06-14T09:03:07.030429Z",
     "shell.execute_reply": "2023-06-14T09:03:07.029490Z"
    },
    "papermill": {
     "duration": 0.213929,
     "end_time": "2023-06-14T09:03:07.032839",
     "exception": false,
     "start_time": "2023-06-14T09:03:06.818910",
     "status": "completed"
    },
    "tags": []
   },
   "outputs": [],
   "source": [
    "from sklearn.feature_extraction.text import *\n",
    "vectorizer =TfidfVectorizer(max_features=3000) \n",
    "## we are just trying top 5000 Words,then we can tune it accoring to accuracy and other matrix\n",
    "X = vectorizer.fit_transform(corpus).toarray()"
   ]
  },
  {
   "cell_type": "code",
   "execution_count": 29,
   "id": "4bddd2b6",
   "metadata": {
    "execution": {
     "iopub.execute_input": "2023-06-14T09:03:07.067504Z",
     "iopub.status.busy": "2023-06-14T09:03:07.067203Z",
     "iopub.status.idle": "2023-06-14T09:03:07.074353Z",
     "shell.execute_reply": "2023-06-14T09:03:07.073457Z"
    },
    "papermill": {
     "duration": 0.026215,
     "end_time": "2023-06-14T09:03:07.076432",
     "exception": false,
     "start_time": "2023-06-14T09:03:07.050217",
     "status": "completed"
    },
    "tags": []
   },
   "outputs": [
    {
     "data": {
      "text/plain": [
       "array([[0., 0., 0., ..., 0., 0., 0.],\n",
       "       [0., 0., 0., ..., 0., 0., 0.],\n",
       "       [0., 0., 0., ..., 0., 0., 0.],\n",
       "       ...,\n",
       "       [0., 0., 0., ..., 0., 0., 0.],\n",
       "       [0., 0., 0., ..., 0., 0., 0.],\n",
       "       [0., 0., 0., ..., 0., 0., 0.]])"
      ]
     },
     "execution_count": 29,
     "metadata": {},
     "output_type": "execute_result"
    }
   ],
   "source": [
    "X"
   ]
  },
  {
   "cell_type": "code",
   "execution_count": 30,
   "id": "03429b80",
   "metadata": {
    "execution": {
     "iopub.execute_input": "2023-06-14T09:03:07.109901Z",
     "iopub.status.busy": "2023-06-14T09:03:07.109181Z",
     "iopub.status.idle": "2023-06-14T09:03:07.409901Z",
     "shell.execute_reply": "2023-06-14T09:03:07.408743Z"
    },
    "papermill": {
     "duration": 0.319757,
     "end_time": "2023-06-14T09:03:07.412184",
     "exception": false,
     "start_time": "2023-06-14T09:03:07.092427",
     "status": "completed"
    },
    "tags": []
   },
   "outputs": [
    {
     "name": "stderr",
     "output_type": "stream",
     "text": [
      "/opt/conda/lib/python3.10/site-packages/sklearn/utils/validation.py:1143: DataConversionWarning: A column-vector y was passed when a 1d array was expected. Please change the shape of y to (n_samples, ), for example using ravel().\n",
      "  y = column_or_1d(y, warn=True)\n"
     ]
    },
    {
     "data": {
      "text/plain": [
       "(0.8809808612440191,\n",
       " array([[1264,  162],\n",
       "        [  37,  209]]))"
      ]
     },
     "execution_count": 30,
     "metadata": {},
     "output_type": "execute_result"
    }
   ],
   "source": [
    "from sklearn.model_selection import train_test_split\n",
    "from sklearn.naive_bayes import GaussianNB\n",
    "X_train, X_test, y_train, y_test = train_test_split(X, y, test_size=0.3, random_state=50)\n",
    "gnb = GaussianNB()\n",
    "y_pred = gnb.fit(X_train, y_train).predict(X_test)\n",
    "accuracy_score(y_test, y_pred),confusion_matrix(y_test, y_pred)"
   ]
  },
  {
   "cell_type": "markdown",
   "id": "1d6d4e8c",
   "metadata": {
    "papermill": {
     "duration": 0.016226,
     "end_time": "2023-06-14T09:03:07.445001",
     "exception": false,
     "start_time": "2023-06-14T09:03:07.428775",
     "status": "completed"
    },
    "tags": []
   },
   "source": [
    "### By changing the features and Text Representation(Encoding) Model we are able to increase the accuracy of 2%\n",
    "\n",
    "- Lets change the model and check"
   ]
  },
  {
   "cell_type": "markdown",
   "id": "7f2dae62",
   "metadata": {
    "papermill": {
     "duration": 0.015965,
     "end_time": "2023-06-14T09:03:07.477411",
     "exception": false,
     "start_time": "2023-06-14T09:03:07.461446",
     "status": "completed"
    },
    "tags": []
   },
   "source": [
    "## Multinomial Naive Bayes"
   ]
  },
  {
   "cell_type": "code",
   "execution_count": 31,
   "id": "05904ee9",
   "metadata": {
    "execution": {
     "iopub.execute_input": "2023-06-14T09:03:07.511960Z",
     "iopub.status.busy": "2023-06-14T09:03:07.511129Z",
     "iopub.status.idle": "2023-06-14T09:03:07.631595Z",
     "shell.execute_reply": "2023-06-14T09:03:07.629167Z"
    },
    "papermill": {
     "duration": 0.140595,
     "end_time": "2023-06-14T09:03:07.634475",
     "exception": false,
     "start_time": "2023-06-14T09:03:07.493880",
     "status": "completed"
    },
    "tags": []
   },
   "outputs": [
    {
     "name": "stderr",
     "output_type": "stream",
     "text": [
      "/opt/conda/lib/python3.10/site-packages/sklearn/utils/validation.py:1143: DataConversionWarning: A column-vector y was passed when a 1d array was expected. Please change the shape of y to (n_samples, ), for example using ravel().\n",
      "  y = column_or_1d(y, warn=True)\n"
     ]
    },
    {
     "data": {
      "text/plain": [
       "(0.9683014354066986,\n",
       " array([[1425,    1],\n",
       "        [  52,  194]]))"
      ]
     },
     "execution_count": 31,
     "metadata": {},
     "output_type": "execute_result"
    }
   ],
   "source": [
    "from sklearn.model_selection import train_test_split\n",
    "from sklearn.naive_bayes import *\n",
    "X_train, X_test, y_train, y_test = train_test_split(X, y, test_size=0.3, random_state=50)\n",
    "mnb = MultinomialNB ()\n",
    "y_pred = mnb.fit(X_train, y_train).predict(X_test)\n",
    "accuracy_score(y_test, y_pred),confusion_matrix(y_test, y_pred)"
   ]
  },
  {
   "cell_type": "markdown",
   "id": "faef3f8d",
   "metadata": {
    "papermill": {
     "duration": 0.036877,
     "end_time": "2023-06-14T09:03:07.708548",
     "exception": false,
     "start_time": "2023-06-14T09:03:07.671671",
     "status": "completed"
    },
    "tags": []
   },
   "source": [
    "### We are getting better results in Multinomial Naive Bayes Model, lets check for other algorithms also"
   ]
  },
  {
   "cell_type": "markdown",
   "id": "fd2f7158",
   "metadata": {
    "papermill": {
     "duration": 0.016686,
     "end_time": "2023-06-14T09:03:07.759803",
     "exception": false,
     "start_time": "2023-06-14T09:03:07.743117",
     "status": "completed"
    },
    "tags": []
   },
   "source": [
    "### Complement Naive Bayes"
   ]
  },
  {
   "cell_type": "code",
   "execution_count": 32,
   "id": "8ea3f3e1",
   "metadata": {
    "execution": {
     "iopub.execute_input": "2023-06-14T09:03:07.794292Z",
     "iopub.status.busy": "2023-06-14T09:03:07.793971Z",
     "iopub.status.idle": "2023-06-14T09:03:07.907941Z",
     "shell.execute_reply": "2023-06-14T09:03:07.906979Z"
    },
    "papermill": {
     "duration": 0.13455,
     "end_time": "2023-06-14T09:03:07.910938",
     "exception": false,
     "start_time": "2023-06-14T09:03:07.776388",
     "status": "completed"
    },
    "tags": []
   },
   "outputs": [
    {
     "name": "stderr",
     "output_type": "stream",
     "text": [
      "/opt/conda/lib/python3.10/site-packages/sklearn/utils/validation.py:1143: DataConversionWarning: A column-vector y was passed when a 1d array was expected. Please change the shape of y to (n_samples, ), for example using ravel().\n",
      "  y = column_or_1d(y, warn=True)\n"
     ]
    },
    {
     "data": {
      "text/plain": [
       "(0.9294258373205742,\n",
       " array([[1323,  103],\n",
       "        [  15,  231]]))"
      ]
     },
     "execution_count": 32,
     "metadata": {},
     "output_type": "execute_result"
    }
   ],
   "source": [
    "from sklearn.model_selection import train_test_split\n",
    "from sklearn.naive_bayes import *\n",
    "X_train, X_test, y_train, y_test = train_test_split(X, y, test_size=0.3, random_state=50)\n",
    "cnb = ComplementNB()\n",
    "y_pred = cnb.fit(X_train, y_train).predict(X_test)\n",
    "accuracy_score(y_test, y_pred),confusion_matrix(y_test, y_pred)"
   ]
  },
  {
   "cell_type": "markdown",
   "id": "f950ce37",
   "metadata": {
    "papermill": {
     "duration": 0.036617,
     "end_time": "2023-06-14T09:03:07.985781",
     "exception": false,
     "start_time": "2023-06-14T09:03:07.949164",
     "status": "completed"
    },
    "tags": []
   },
   "source": [
    "#### We are getting accuracy of 92% which is below multinominal naive bayes model"
   ]
  },
  {
   "cell_type": "markdown",
   "id": "a386b577",
   "metadata": {
    "papermill": {
     "duration": 0.016512,
     "end_time": "2023-06-14T09:03:08.038636",
     "exception": false,
     "start_time": "2023-06-14T09:03:08.022124",
     "status": "completed"
    },
    "tags": []
   },
   "source": [
    "###  Bernoulli Naive Bayes"
   ]
  },
  {
   "cell_type": "code",
   "execution_count": 33,
   "id": "e6835202",
   "metadata": {
    "execution": {
     "iopub.execute_input": "2023-06-14T09:03:08.073118Z",
     "iopub.status.busy": "2023-06-14T09:03:08.072776Z",
     "iopub.status.idle": "2023-06-14T09:03:08.350085Z",
     "shell.execute_reply": "2023-06-14T09:03:08.348765Z"
    },
    "papermill": {
     "duration": 0.298331,
     "end_time": "2023-06-14T09:03:08.353523",
     "exception": false,
     "start_time": "2023-06-14T09:03:08.055192",
     "status": "completed"
    },
    "tags": []
   },
   "outputs": [
    {
     "name": "stderr",
     "output_type": "stream",
     "text": [
      "/opt/conda/lib/python3.10/site-packages/sklearn/utils/validation.py:1143: DataConversionWarning: A column-vector y was passed when a 1d array was expected. Please change the shape of y to (n_samples, ), for example using ravel().\n",
      "  y = column_or_1d(y, warn=True)\n"
     ]
    },
    {
     "data": {
      "text/plain": [
       "(0.9778708133971292,\n",
       " array([[1419,    7],\n",
       "        [  30,  216]]))"
      ]
     },
     "execution_count": 33,
     "metadata": {},
     "output_type": "execute_result"
    }
   ],
   "source": [
    "from sklearn.model_selection import train_test_split\n",
    "from sklearn.naive_bayes import *\n",
    "X_train, X_test, y_train, y_test = train_test_split(X, y, test_size=0.3, random_state=50)\n",
    "bnb = BernoulliNB()\n",
    "y_pred = bnb.fit(X_train, y_train).predict(X_test)\n",
    "accuracy_score(y_test, y_pred),confusion_matrix(y_test, y_pred)"
   ]
  },
  {
   "cell_type": "markdown",
   "id": "be556b26",
   "metadata": {
    "papermill": {
     "duration": 0.033821,
     "end_time": "2023-06-14T09:03:08.433583",
     "exception": false,
     "start_time": "2023-06-14T09:03:08.399762",
     "status": "completed"
    },
    "tags": []
   },
   "source": [
    "### we are getting better results from  Bernoulli Naive Bayes Model which is giving 97.78%\n",
    "\n",
    "### lets see we can increase little bit by changing step part from stemming into lemmatization"
   ]
  },
  {
   "cell_type": "code",
   "execution_count": 34,
   "id": "67e6ec9f",
   "metadata": {
    "execution": {
     "iopub.execute_input": "2023-06-14T09:03:08.468770Z",
     "iopub.status.busy": "2023-06-14T09:03:08.468475Z",
     "iopub.status.idle": "2023-06-14T09:03:08.608824Z",
     "shell.execute_reply": "2023-06-14T09:03:08.607930Z"
    },
    "papermill": {
     "duration": 0.159965,
     "end_time": "2023-06-14T09:03:08.610719",
     "exception": false,
     "start_time": "2023-06-14T09:03:08.450754",
     "status": "completed"
    },
    "tags": []
   },
   "outputs": [
    {
     "name": "stdout",
     "output_type": "stream",
     "text": [
      "[nltk_data] Downloading package wordnet to /usr/share/nltk_data...\n",
      "[nltk_data]   Package wordnet is already up-to-date!\n"
     ]
    },
    {
     "data": {
      "text/plain": [
       "True"
      ]
     },
     "execution_count": 34,
     "metadata": {},
     "output_type": "execute_result"
    }
   ],
   "source": [
    "nltk.download('wordnet')"
   ]
  },
  {
   "cell_type": "code",
   "execution_count": 35,
   "id": "b5196066",
   "metadata": {
    "execution": {
     "iopub.execute_input": "2023-06-14T09:03:08.646342Z",
     "iopub.status.busy": "2023-06-14T09:03:08.646023Z",
     "iopub.status.idle": "2023-06-14T09:03:23.373214Z",
     "shell.execute_reply": "2023-06-14T09:03:23.372074Z"
    },
    "papermill": {
     "duration": 14.747818,
     "end_time": "2023-06-14T09:03:23.375918",
     "exception": false,
     "start_time": "2023-06-14T09:03:08.628100",
     "status": "completed"
    },
    "tags": []
   },
   "outputs": [
    {
     "name": "stdout",
     "output_type": "stream",
     "text": [
      "Collecting wordnet\r\n",
      "  Downloading wordnet-0.0.1b2.tar.gz (8.8 kB)\r\n",
      "  Preparing metadata (setup.py) ... \u001b[?25l-\b \b\\\b \b|\b \bdone\r\n",
      "\u001b[?25hCollecting colorama==0.3.9 (from wordnet)\r\n",
      "  Downloading colorama-0.3.9-py2.py3-none-any.whl (20 kB)\r\n",
      "Building wheels for collected packages: wordnet\r\n",
      "  Building wheel for wordnet (setup.py) ... \u001b[?25l-\b \b\\\b \b|\b \bdone\r\n",
      "\u001b[?25h  Created wheel for wordnet: filename=wordnet-0.0.1b2-py3-none-any.whl size=10520 sha256=9c6012eb8896a8b5fd61c11259cdb4bb8d734233118809356bf2376fe65cbbaf\r\n",
      "  Stored in directory: /root/.cache/pip/wheels/c0/a1/e8/4649c8712033dcdbd1e64a0fc75216a5d1769665852c36b4f9\r\n",
      "Successfully built wordnet\r\n",
      "Installing collected packages: colorama, wordnet\r\n",
      "  Attempting uninstall: colorama\r\n",
      "    Found existing installation: colorama 0.4.6\r\n",
      "    Uninstalling colorama-0.4.6:\r\n",
      "      Successfully uninstalled colorama-0.4.6\r\n",
      "\u001b[31mERROR: pip's dependency resolver does not currently take into account all the packages that are installed. This behaviour is the source of the following dependency conflicts.\r\n",
      "bayesian-optimization 1.4.3 requires colorama>=0.4.6, but you have colorama 0.3.9 which is incompatible.\u001b[0m\u001b[31m\r\n",
      "\u001b[0mSuccessfully installed colorama-0.3.9 wordnet-0.0.1b2\r\n",
      "\u001b[33mWARNING: Running pip as the 'root' user can result in broken permissions and conflicting behaviour with the system package manager. It is recommended to use a virtual environment instead: https://pip.pypa.io/warnings/venv\u001b[0m\u001b[33m\r\n",
      "\u001b[0m"
     ]
    }
   ],
   "source": [
    "!pip install wordnet"
   ]
  },
  {
   "cell_type": "code",
   "execution_count": 36,
   "id": "16b51384",
   "metadata": {
    "execution": {
     "iopub.execute_input": "2023-06-14T09:03:23.417477Z",
     "iopub.status.busy": "2023-06-14T09:03:23.416549Z",
     "iopub.status.idle": "2023-06-14T09:03:24.664135Z",
     "shell.execute_reply": "2023-06-14T09:03:24.663072Z"
    },
    "papermill": {
     "duration": 1.269646,
     "end_time": "2023-06-14T09:03:24.666509",
     "exception": false,
     "start_time": "2023-06-14T09:03:23.396863",
     "status": "completed"
    },
    "tags": []
   },
   "outputs": [
    {
     "name": "stdout",
     "output_type": "stream",
     "text": [
      "[nltk_data] Downloading package wordnet to /usr/share/nltk_data...\n",
      "[nltk_data]   Package wordnet is already up-to-date!\n",
      "Archive:  /usr/share/nltk_data/corpora/wordnet.zip\r\n",
      "   creating: /usr/share/nltk_data/corpora/wordnet/\r\n",
      "  inflating: /usr/share/nltk_data/corpora/wordnet/lexnames  \r\n",
      "  inflating: /usr/share/nltk_data/corpora/wordnet/data.verb  \r\n",
      "  inflating: /usr/share/nltk_data/corpora/wordnet/index.adv  \r\n",
      "  inflating: /usr/share/nltk_data/corpora/wordnet/adv.exc  \r\n",
      "  inflating: /usr/share/nltk_data/corpora/wordnet/index.verb  \r\n",
      "  inflating: /usr/share/nltk_data/corpora/wordnet/cntlist.rev  \r\n",
      "  inflating: /usr/share/nltk_data/corpora/wordnet/data.adj  \r\n",
      "  inflating: /usr/share/nltk_data/corpora/wordnet/index.adj  \r\n",
      "  inflating: /usr/share/nltk_data/corpora/wordnet/LICENSE  \r\n",
      "  inflating: /usr/share/nltk_data/corpora/wordnet/citation.bib  \r\n",
      "  inflating: /usr/share/nltk_data/corpora/wordnet/noun.exc  \r\n",
      "  inflating: /usr/share/nltk_data/corpora/wordnet/verb.exc  \r\n",
      "  inflating: /usr/share/nltk_data/corpora/wordnet/README  \r\n",
      "  inflating: /usr/share/nltk_data/corpora/wordnet/index.sense  \r\n",
      "  inflating: /usr/share/nltk_data/corpora/wordnet/data.noun  \r\n",
      "  inflating: /usr/share/nltk_data/corpora/wordnet/data.adv  \r\n",
      "  inflating: /usr/share/nltk_data/corpora/wordnet/index.noun  \r\n",
      "  inflating: /usr/share/nltk_data/corpora/wordnet/adj.exc  \r\n"
     ]
    }
   ],
   "source": [
    "from nltk.corpus import wordnet\n",
    "nltk.corpus.wordnet\n",
    "#from wordnet import Dictionary\n",
    "nltk.download('wordnet')\n",
    "## To unzip the corpora wordnet\n",
    "!unzip /usr/share/nltk_data/corpora/wordnet.zip -d /usr/share/nltk_data/corpora/"
   ]
  },
  {
   "cell_type": "code",
   "execution_count": 37,
   "id": "8c985b13",
   "metadata": {
    "execution": {
     "iopub.execute_input": "2023-06-14T09:03:24.705658Z",
     "iopub.status.busy": "2023-06-14T09:03:24.705341Z",
     "iopub.status.idle": "2023-06-14T09:03:37.889592Z",
     "shell.execute_reply": "2023-06-14T09:03:37.888619Z"
    },
    "papermill": {
     "duration": 13.206805,
     "end_time": "2023-06-14T09:03:37.892138",
     "exception": false,
     "start_time": "2023-06-14T09:03:24.685333",
     "status": "completed"
    },
    "tags": []
   },
   "outputs": [],
   "source": [
    "from nltk.stem import WordNetLemmatizer\n",
    "corpus=[]\n",
    "wnl=WordNetLemmatizer()\n",
    "\n",
    "for i in range(len(df)):\n",
    "    review=re.sub('[^a-zA-Z]',\" \",df[\"message\"][i])\n",
    "    review=review.lower().split()\n",
    "    review=[wnl.lemmatize(word) for word in review if not word in stopwords.words('english')]\n",
    "    review=\" \".join(review)\n",
    "    corpus.append(review)"
   ]
  },
  {
   "cell_type": "code",
   "execution_count": 38,
   "id": "64f16a7c",
   "metadata": {
    "execution": {
     "iopub.execute_input": "2023-06-14T09:03:37.931089Z",
     "iopub.status.busy": "2023-06-14T09:03:37.930785Z",
     "iopub.status.idle": "2023-06-14T09:03:38.099720Z",
     "shell.execute_reply": "2023-06-14T09:03:38.098631Z"
    },
    "papermill": {
     "duration": 0.191511,
     "end_time": "2023-06-14T09:03:38.102720",
     "exception": false,
     "start_time": "2023-06-14T09:03:37.911209",
     "status": "completed"
    },
    "tags": []
   },
   "outputs": [
    {
     "data": {
      "text/plain": [
       "(array([[0, 0, 0, ..., 0, 0, 0],\n",
       "        [0, 0, 0, ..., 0, 0, 0],\n",
       "        [0, 0, 0, ..., 0, 0, 0],\n",
       "        ...,\n",
       "        [0, 0, 0, ..., 0, 0, 0],\n",
       "        [0, 0, 0, ..., 0, 0, 0],\n",
       "        [0, 0, 0, ..., 0, 0, 0]]),\n",
       " (5572, 6000))"
      ]
     },
     "execution_count": 38,
     "metadata": {},
     "output_type": "execute_result"
    }
   ],
   "source": [
    "from sklearn.feature_extraction.text import *\n",
    "model=CountVectorizer(max_features=6000)\n",
    "X=model.fit_transform(corpus).toarray()\n",
    "X,X.shape\n"
   ]
  },
  {
   "cell_type": "code",
   "execution_count": 39,
   "id": "9b5d0811",
   "metadata": {
    "execution": {
     "iopub.execute_input": "2023-06-14T09:03:38.149989Z",
     "iopub.status.busy": "2023-06-14T09:03:38.149599Z",
     "iopub.status.idle": "2023-06-14T09:03:38.170035Z",
     "shell.execute_reply": "2023-06-14T09:03:38.169090Z"
    },
    "papermill": {
     "duration": 0.049287,
     "end_time": "2023-06-14T09:03:38.173234",
     "exception": false,
     "start_time": "2023-06-14T09:03:38.123947",
     "status": "completed"
    },
    "tags": []
   },
   "outputs": [
    {
     "data": {
      "text/html": [
       "<div>\n",
       "<style scoped>\n",
       "    .dataframe tbody tr th:only-of-type {\n",
       "        vertical-align: middle;\n",
       "    }\n",
       "\n",
       "    .dataframe tbody tr th {\n",
       "        vertical-align: top;\n",
       "    }\n",
       "\n",
       "    .dataframe thead th {\n",
       "        text-align: right;\n",
       "    }\n",
       "</style>\n",
       "<table border=\"1\" class=\"dataframe\">\n",
       "  <thead>\n",
       "    <tr style=\"text-align: right;\">\n",
       "      <th></th>\n",
       "      <th>spam</th>\n",
       "    </tr>\n",
       "  </thead>\n",
       "  <tbody>\n",
       "    <tr>\n",
       "      <th>0</th>\n",
       "      <td>0</td>\n",
       "    </tr>\n",
       "    <tr>\n",
       "      <th>1</th>\n",
       "      <td>0</td>\n",
       "    </tr>\n",
       "    <tr>\n",
       "      <th>2</th>\n",
       "      <td>1</td>\n",
       "    </tr>\n",
       "    <tr>\n",
       "      <th>3</th>\n",
       "      <td>0</td>\n",
       "    </tr>\n",
       "    <tr>\n",
       "      <th>4</th>\n",
       "      <td>0</td>\n",
       "    </tr>\n",
       "    <tr>\n",
       "      <th>...</th>\n",
       "      <td>...</td>\n",
       "    </tr>\n",
       "    <tr>\n",
       "      <th>5567</th>\n",
       "      <td>1</td>\n",
       "    </tr>\n",
       "    <tr>\n",
       "      <th>5568</th>\n",
       "      <td>0</td>\n",
       "    </tr>\n",
       "    <tr>\n",
       "      <th>5569</th>\n",
       "      <td>0</td>\n",
       "    </tr>\n",
       "    <tr>\n",
       "      <th>5570</th>\n",
       "      <td>0</td>\n",
       "    </tr>\n",
       "    <tr>\n",
       "      <th>5571</th>\n",
       "      <td>0</td>\n",
       "    </tr>\n",
       "  </tbody>\n",
       "</table>\n",
       "<p>5572 rows × 1 columns</p>\n",
       "</div>"
      ],
      "text/plain": [
       "      spam\n",
       "0        0\n",
       "1        0\n",
       "2        1\n",
       "3        0\n",
       "4        0\n",
       "...    ...\n",
       "5567     1\n",
       "5568     0\n",
       "5569     0\n",
       "5570     0\n",
       "5571     0\n",
       "\n",
       "[5572 rows x 1 columns]"
      ]
     },
     "execution_count": 39,
     "metadata": {},
     "output_type": "execute_result"
    }
   ],
   "source": [
    "y"
   ]
  },
  {
   "cell_type": "code",
   "execution_count": 40,
   "id": "f9c3198f",
   "metadata": {
    "execution": {
     "iopub.execute_input": "2023-06-14T09:03:38.227180Z",
     "iopub.status.busy": "2023-06-14T09:03:38.226882Z",
     "iopub.status.idle": "2023-06-14T09:03:38.761719Z",
     "shell.execute_reply": "2023-06-14T09:03:38.760691Z"
    },
    "papermill": {
     "duration": 0.558489,
     "end_time": "2023-06-14T09:03:38.764969",
     "exception": false,
     "start_time": "2023-06-14T09:03:38.206480",
     "status": "completed"
    },
    "tags": []
   },
   "outputs": [
    {
     "name": "stderr",
     "output_type": "stream",
     "text": [
      "/opt/conda/lib/python3.10/site-packages/sklearn/utils/validation.py:1143: DataConversionWarning: A column-vector y was passed when a 1d array was expected. Please change the shape of y to (n_samples, ), for example using ravel().\n",
      "  y = column_or_1d(y, warn=True)\n"
     ]
    },
    {
     "data": {
      "text/plain": [
       "(0.9778708133971292,\n",
       " array([[1423,    3],\n",
       "        [  34,  212]]))"
      ]
     },
     "execution_count": 40,
     "metadata": {},
     "output_type": "execute_result"
    }
   ],
   "source": [
    "from sklearn.model_selection import train_test_split\n",
    "from sklearn.naive_bayes import *\n",
    "X_train, X_test, y_train, y_test = train_test_split(X, y, test_size=0.3, random_state=50)\n",
    "bnb = BernoulliNB()\n",
    "y_pred = bnb.fit(X_train, y_train).predict(X_test)\n",
    "accuracy_score(y_test, y_pred),confusion_matrix(y_test, y_pred)"
   ]
  },
  {
   "cell_type": "markdown",
   "id": "5bb016a6",
   "metadata": {
    "papermill": {
     "duration": 0.041892,
     "end_time": "2023-06-14T09:03:38.849429",
     "exception": false,
     "start_time": "2023-06-14T09:03:38.807537",
     "status": "completed"
    },
    "tags": []
   },
   "source": [
    "## Accuracy for this model is 97.78%"
   ]
  },
  {
   "cell_type": "markdown",
   "id": "a0826633",
   "metadata": {
    "papermill": {
     "duration": 0.019054,
     "end_time": "2023-06-14T09:03:38.900318",
     "exception": false,
     "start_time": "2023-06-14T09:03:38.881264",
     "status": "completed"
    },
    "tags": []
   },
   "source": [
    "## Conclusion\n",
    "\n",
    " 1. for this dataset the Text representation Model TF-IDF is giving Better results than Bag of Words Model\n",
    " 2. The Bernoulli Naive Bayes  Model is giving Best results \n",
    " 3. Optimal Number of Top features in the text representation is 6000\n",
    " "
   ]
  },
  {
   "cell_type": "code",
   "execution_count": null,
   "id": "40ba0c28",
   "metadata": {
    "papermill": {
     "duration": 0.018789,
     "end_time": "2023-06-14T09:03:38.938181",
     "exception": false,
     "start_time": "2023-06-14T09:03:38.919392",
     "status": "completed"
    },
    "tags": []
   },
   "outputs": [],
   "source": []
  }
 ],
 "metadata": {
  "kernelspec": {
   "display_name": "Python 3",
   "language": "python",
   "name": "python3"
  },
  "language_info": {
   "codemirror_mode": {
    "name": "ipython",
    "version": 3
   },
   "file_extension": ".py",
   "mimetype": "text/x-python",
   "name": "python",
   "nbconvert_exporter": "python",
   "pygments_lexer": "ipython3",
   "version": "3.10.10"
  },
  "papermill": {
   "default_parameters": {},
   "duration": 60.347984,
   "end_time": "2023-06-14T09:03:39.977536",
   "environment_variables": {},
   "exception": null,
   "input_path": "__notebook__.ipynb",
   "output_path": "__notebook__.ipynb",
   "parameters": {},
   "start_time": "2023-06-14T09:02:39.629552",
   "version": "2.4.0"
  }
 },
 "nbformat": 4,
 "nbformat_minor": 5
}
